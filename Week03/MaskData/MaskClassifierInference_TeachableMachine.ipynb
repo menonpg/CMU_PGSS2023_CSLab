{
  "nbformat": 4,
  "nbformat_minor": 0,
  "metadata": {
    "colab": {
      "provenance": [],
      "collapsed_sections": [
        "eOEWlXjy9FfR"
      ]
    },
    "kernelspec": {
      "name": "python3",
      "display_name": "Python 3"
    },
    "language_info": {
      "name": "python"
    }
  },
  "cells": [
    {
      "cell_type": "code",
      "source": [
        "from google.colab import drive\n",
        "drive.mount('/content/gdrive')"
      ],
      "metadata": {
        "colab": {
          "base_uri": "https://localhost:8080/"
        },
        "id": "YY4ovq9662gl",
        "outputId": "4e7f3a95-281a-4a71-cc5e-a2e7e5752a5a"
      },
      "execution_count": 1,
      "outputs": [
        {
          "output_type": "stream",
          "name": "stdout",
          "text": [
            "Mounted at /content/gdrive\n"
          ]
        }
      ]
    },
    {
      "cell_type": "code",
      "source": [
        "!cp -r /content/gdrive/MyDrive/PGSS2022/PGSS2023/Week03/kerasTeachableMachineModel/ /content/"
      ],
      "metadata": {
        "id": "Sfa49sRQ69AV"
      },
      "execution_count": 2,
      "outputs": []
    },
    {
      "cell_type": "code",
      "source": [
        "!cp /content/gdrive/MyDrive/PGSS2022/PGSS2023/Week03/MaskData/with_mask/101-with-mask.jpg ."
      ],
      "metadata": {
        "id": "LFY6vzm77U0C"
      },
      "execution_count": 3,
      "outputs": []
    },
    {
      "cell_type": "code",
      "source": [
        "!cp /content/gdrive/MyDrive/PGSS2022/PGSS2023/Week03/MaskData/without_mask/105.jpg ."
      ],
      "metadata": {
        "id": "ND1bgsB27Wlu"
      },
      "execution_count": 4,
      "outputs": []
    },
    {
      "cell_type": "code",
      "execution_count": 6,
      "metadata": {
        "colab": {
          "base_uri": "https://localhost:8080/"
        },
        "id": "0991ZsQP6hvu",
        "outputId": "f89146dc-4aa6-4f3b-dae2-daf0e89c56b0"
      },
      "outputs": [
        {
          "output_type": "stream",
          "name": "stdout",
          "text": [
            "1/1 [==============================] - 1s 947ms/step\n",
            "Class: NoMask\n",
            "Confidence Score: 1.0\n"
          ]
        }
      ],
      "source": [
        "from keras.models import load_model  # TensorFlow is required for Keras to work\n",
        "from PIL import Image, ImageOps  # Install pillow instead of PIL\n",
        "import numpy as np\n",
        "\n",
        "# Disable scientific notation for clarity\n",
        "np.set_printoptions(suppress=True)\n",
        "\n",
        "# Load the model\n",
        "model = load_model(\"/content/kerasTeachableMachineModel/keras_model.h5\", compile=False)\n",
        "\n",
        "# Load the labels\n",
        "class_names = open(\"/content/kerasTeachableMachineModel/labels.txt\", \"r\").readlines()\n",
        "\n",
        "# Create the array of the right shape to feed into the keras model\n",
        "# The 'length' or number of images you can put into the array is\n",
        "# determined by the first position in the shape tuple, in this case 1\n",
        "data = np.ndarray(shape=(1, 224, 224, 3), dtype=np.float32)\n",
        "\n",
        "# Replace this with the path to your image\n",
        "# image = Image.open(\"/content/101-with-mask.jpg\").convert(\"RGB\")\n",
        "image = Image.open(\"/content/105.jpg\").convert(\"RGB\")\n",
        "\n",
        "# resizing the image to be at least 224x224 and then cropping from the center\n",
        "size = (224, 224)\n",
        "image = ImageOps.fit(image, size, Image.Resampling.LANCZOS)\n",
        "\n",
        "# turn the image into a numpy array\n",
        "image_array = np.asarray(image)\n",
        "\n",
        "# Normalize the image\n",
        "normalized_image_array = (image_array.astype(np.float32) / 127.5) - 1\n",
        "\n",
        "# Load the image into the array\n",
        "data[0] = normalized_image_array\n",
        "\n",
        "# Predicts the model\n",
        "prediction = model.predict(data)\n",
        "index = np.argmax(prediction)\n",
        "class_name = class_names[index]\n",
        "confidence_score = prediction[0][index]\n",
        "\n",
        "# Print prediction and confidence score\n",
        "print(\"Class:\", class_name[2:], end=\"\")\n",
        "print(\"Confidence Score:\", confidence_score)\n"
      ]
    },
    {
      "cell_type": "code",
      "source": [
        "# Explore the model to see what its architecture is\n",
        "\n",
        "model.summary()"
      ],
      "metadata": {
        "colab": {
          "base_uri": "https://localhost:8080/"
        },
        "id": "4Phi8vDQ8Ukt",
        "outputId": "db42aa0c-26b2-4fda-f23a-6a352f32aef4"
      },
      "execution_count": 7,
      "outputs": [
        {
          "output_type": "stream",
          "name": "stdout",
          "text": [
            "Model: \"sequential_6\"\n",
            "_________________________________________________________________\n",
            " Layer (type)                Output Shape              Param #   \n",
            "=================================================================\n",
            " sequential_3 (Sequential)   (None, 1280)              410208    \n",
            "                                                                 \n",
            " sequential_5 (Sequential)   (None, 2)                 128300    \n",
            "                                                                 \n",
            "=================================================================\n",
            "Total params: 538,508\n",
            "Trainable params: 524,428\n",
            "Non-trainable params: 14,080\n",
            "_________________________________________________________________\n"
          ]
        }
      ]
    },
    {
      "cell_type": "markdown",
      "source": [
        "# Develop an inference SCRIPT that can run this model as an encapsulated FUNCTION"
      ],
      "metadata": {
        "id": "eOEWlXjy9FfR"
      }
    },
    {
      "cell_type": "code",
      "source": [
        "%%writefile runinference_keras_maskClassifier.py\n",
        "# Here's the code refactored into a class with methods for loading the model and making predictions,\n",
        "# and a main function that creates an instance of the class and calls its methods:\n",
        "\n",
        "import numpy as np\n",
        "from keras.models import load_model\n",
        "from PIL import Image, ImageOps\n",
        "\n",
        "\n",
        "class KerasImageClassifier:\n",
        "    def __init__(self, model_path, labels_path, image_path):\n",
        "        # Disable scientific notation for clarity\n",
        "        np.set_printoptions(suppress=True)\n",
        "\n",
        "        self.model_path = model_path\n",
        "        self.labels_path = labels_path\n",
        "        self.image_path = image_path\n",
        "\n",
        "        self.model = None\n",
        "        self.class_names = None\n",
        "        self.data = np.ndarray(shape=(1, 224, 224, 3), dtype=np.float32)\n",
        "\n",
        "    def load_model_and_labels(self):\n",
        "        # Load the model\n",
        "        self.model = load_model(self.model_path, compile=False)\n",
        "        # Load the labels\n",
        "        self.class_names = open(self.labels_path, \"r\").readlines()\n",
        "\n",
        "    def predict_image_class(self):\n",
        "        # Open the image file\n",
        "        image = Image.open(self.image_path).convert(\"RGB\")\n",
        "\n",
        "        # Resizing the image to be at least 224x224 and then cropping from the center\n",
        "        size = (224, 224)\n",
        "        image = ImageOps.fit(image, size, Image.Resampling.LANCZOS)\n",
        "\n",
        "        # Turn the image into a numpy array\n",
        "        image_array = np.asarray(image)\n",
        "\n",
        "        # Normalize the image\n",
        "        normalized_image_array = (image_array.astype(np.float32) / 127.5) - 1\n",
        "\n",
        "        # Load the image into the array\n",
        "        self.data[0] = normalized_image_array\n",
        "\n",
        "        # Predicts the model\n",
        "        prediction = self.model.predict(self.data)\n",
        "        index = np.argmax(prediction)\n",
        "        class_name = self.class_names[index]\n",
        "        confidence_score = prediction[0][index]\n",
        "\n",
        "        return class_name, confidence_score\n",
        "\n",
        "\n",
        "\"\"\"\n",
        "def main():\n",
        "    model_path = \"kerasTeachableMachineModel/keras_model.h5\"\n",
        "    labels_path = \"kerasTeachableMachineModel/labels.txt\"\n",
        "    image_path = \"105.jpg\"\n",
        "\n",
        "    classifier = KerasImageClassifier(model_path, labels_path, image_path)\n",
        "    classifier.load_model_and_labels()\n",
        "    class_name, confidence_score = classifier.predict_image_class()\n",
        "\n",
        "    # Print prediction and confidence score\n",
        "    print(\"Class:\", class_name[2:], end=\"\")\n",
        "    print(\"Confidence Score:\", confidence_score)\n",
        "\"\"\"\n",
        "\n",
        "import argparse\n",
        "\n",
        "def main():\n",
        "    # Create argument parser\n",
        "    parser = argparse.ArgumentParser(description='Image Classifier')\n",
        "    parser.add_argument('image', help='Path to the image that needs to be processed')\n",
        "\n",
        "    # Parse arguments\n",
        "    args = parser.parse_args()\n",
        "\n",
        "    model_path = \"kerasTeachableMachineModel/keras_model.h5\"\n",
        "    labels_path = \"kerasTeachableMachineModel/labels.txt\"\n",
        "    image_path = args.image\n",
        "\n",
        "    classifier = KerasImageClassifier(model_path, labels_path, image_path)\n",
        "    classifier.load_model_and_labels()\n",
        "    class_name, confidence_score = classifier.predict_image_class()\n",
        "\n",
        "    # Print prediction and confidence score\n",
        "    print(\"Class:\", class_name[2:], end=\"\")\n",
        "    print(\"Confidence Score:\", confidence_score)\n",
        "\n",
        "\n",
        "if __name__ == \"__main__\":\n",
        "    main()\n",
        "\n"
      ],
      "metadata": {
        "colab": {
          "base_uri": "https://localhost:8080/"
        },
        "id": "rCVJt88g9MPW",
        "outputId": "5a8d57b7-afe6-4e67-83fd-1f5ef96a8f77"
      },
      "execution_count": 12,
      "outputs": [
        {
          "output_type": "stream",
          "name": "stdout",
          "text": [
            "Overwriting runinference_keras_maskClassifier.py\n"
          ]
        }
      ]
    },
    {
      "cell_type": "markdown",
      "source": [
        "## Call the script that we just wrote and see what its results are when called on the command line"
      ],
      "metadata": {
        "id": "t_AIl86L9_8-"
      }
    },
    {
      "cell_type": "code",
      "source": [
        "! python /content/runinference_keras_maskClassifier.py \"105.jpg\""
      ],
      "metadata": {
        "colab": {
          "base_uri": "https://localhost:8080/"
        },
        "id": "K1LZDreH98N0",
        "outputId": "1e544761-612b-4c76-9e7a-7b8ebd7a76a3"
      },
      "execution_count": 13,
      "outputs": [
        {
          "output_type": "stream",
          "name": "stdout",
          "text": [
            "2023-07-28 19:29:53.851282: W tensorflow/compiler/tf2tensorrt/utils/py_utils.cc:38] TF-TRT Warning: Could not find TensorRT\n",
            "1/1 [==============================] - 2s 2s/step\n",
            "Class: NoMask\n",
            "Confidence Score: 1.0\n"
          ]
        }
      ]
    },
    {
      "cell_type": "code",
      "source": [
        "! python /content/runinference_keras_maskClassifier.py \"/content/101-with-mask.jpg\""
      ],
      "metadata": {
        "colab": {
          "base_uri": "https://localhost:8080/"
        },
        "id": "ZjGy_gnT-sQA",
        "outputId": "35558c23-9f63-456c-ca02-6888ce66af61"
      },
      "execution_count": 14,
      "outputs": [
        {
          "output_type": "stream",
          "name": "stdout",
          "text": [
            "2023-07-28 19:30:15.211887: W tensorflow/compiler/tf2tensorrt/utils/py_utils.cc:38] TF-TRT Warning: Could not find TensorRT\n",
            "1/1 [==============================] - 1s 986ms/step\n",
            "Class: Mask\n",
            "Confidence Score: 1.0\n"
          ]
        }
      ]
    },
    {
      "cell_type": "markdown",
      "source": [
        "# Work out what the requirements of the colab machine are to run this model"
      ],
      "metadata": {
        "id": "24tgtxMq8zLi"
      }
    },
    {
      "cell_type": "code",
      "source": [
        "! pip freeze > requirements.txt"
      ],
      "metadata": {
        "id": "N0EfqMBM82It"
      },
      "execution_count": 8,
      "outputs": []
    },
    {
      "cell_type": "code",
      "source": [
        "!pip install pipreqs"
      ],
      "metadata": {
        "id": "3dGz7zUQ8_Wi"
      },
      "execution_count": null,
      "outputs": []
    },
    {
      "cell_type": "code",
      "source": [
        "! cp /content/runinference_keras_maskClassifier.py  /content/CleanCode"
      ],
      "metadata": {
        "id": "w1MUSYpz_Auz"
      },
      "execution_count": 16,
      "outputs": []
    },
    {
      "cell_type": "code",
      "source": [
        "! pipreqs /content/CleanCode"
      ],
      "metadata": {
        "colab": {
          "base_uri": "https://localhost:8080/"
        },
        "id": "2gJUADHs-3jY",
        "outputId": "65f3bd7e-b754-4b49-be11-1dde1b5fc321"
      },
      "execution_count": 17,
      "outputs": [
        {
          "output_type": "stream",
          "name": "stdout",
          "text": [
            "WARNING: Import named \"Pillow\" not found locally. Trying to resolve it at the PyPI server.\n",
            "WARNING: Import named \"Pillow\" was resolved to \"Pillow:10.0.0\" package (https://pypi.org/project/Pillow/).\n",
            "Please, verify manually the final list of requirements.txt to avoid possible dependency confusions.\n",
            "INFO: Successfully saved requirements file in /content/CleanCode/requirements.txt\n"
          ]
        }
      ]
    },
    {
      "cell_type": "code",
      "source": [
        "# Build a streamlit app to expose the trained image based classification model"
      ],
      "metadata": {
        "id": "2MG-bZLV8QTW"
      },
      "execution_count": null,
      "outputs": []
    }
  ]
}